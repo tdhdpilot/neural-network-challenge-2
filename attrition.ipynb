{
  "cells": [
    {
      "cell_type": "markdown",
      "metadata": {
        "id": "alIIEHibGc3M"
      },
      "source": [
        "## Part 1: Preprocessing"
      ]
    },
    {
      "cell_type": "code",
      "execution_count": 1,
      "metadata": {
        "colab": {
          "base_uri": "https://localhost:8080/",
          "height": 325
        },
        "id": "6eDUJ4NtGc3P",
        "outputId": "2480098c-135c-4cbf-9552-018494ee8ff5"
      },
      "outputs": [
        {
          "data": {
            "text/html": [
              "<div>\n",
              "<style scoped>\n",
              "    .dataframe tbody tr th:only-of-type {\n",
              "        vertical-align: middle;\n",
              "    }\n",
              "\n",
              "    .dataframe tbody tr th {\n",
              "        vertical-align: top;\n",
              "    }\n",
              "\n",
              "    .dataframe thead th {\n",
              "        text-align: right;\n",
              "    }\n",
              "</style>\n",
              "<table border=\"1\" class=\"dataframe\">\n",
              "  <thead>\n",
              "    <tr style=\"text-align: right;\">\n",
              "      <th></th>\n",
              "      <th>Age</th>\n",
              "      <th>Attrition</th>\n",
              "      <th>BusinessTravel</th>\n",
              "      <th>Department</th>\n",
              "      <th>DistanceFromHome</th>\n",
              "      <th>Education</th>\n",
              "      <th>EducationField</th>\n",
              "      <th>EnvironmentSatisfaction</th>\n",
              "      <th>HourlyRate</th>\n",
              "      <th>JobInvolvement</th>\n",
              "      <th>...</th>\n",
              "      <th>PerformanceRating</th>\n",
              "      <th>RelationshipSatisfaction</th>\n",
              "      <th>StockOptionLevel</th>\n",
              "      <th>TotalWorkingYears</th>\n",
              "      <th>TrainingTimesLastYear</th>\n",
              "      <th>WorkLifeBalance</th>\n",
              "      <th>YearsAtCompany</th>\n",
              "      <th>YearsInCurrentRole</th>\n",
              "      <th>YearsSinceLastPromotion</th>\n",
              "      <th>YearsWithCurrManager</th>\n",
              "    </tr>\n",
              "  </thead>\n",
              "  <tbody>\n",
              "    <tr>\n",
              "      <th>0</th>\n",
              "      <td>41</td>\n",
              "      <td>Yes</td>\n",
              "      <td>Travel_Rarely</td>\n",
              "      <td>Sales</td>\n",
              "      <td>1</td>\n",
              "      <td>2</td>\n",
              "      <td>Life Sciences</td>\n",
              "      <td>2</td>\n",
              "      <td>94</td>\n",
              "      <td>3</td>\n",
              "      <td>...</td>\n",
              "      <td>3</td>\n",
              "      <td>1</td>\n",
              "      <td>0</td>\n",
              "      <td>8</td>\n",
              "      <td>0</td>\n",
              "      <td>1</td>\n",
              "      <td>6</td>\n",
              "      <td>4</td>\n",
              "      <td>0</td>\n",
              "      <td>5</td>\n",
              "    </tr>\n",
              "    <tr>\n",
              "      <th>1</th>\n",
              "      <td>49</td>\n",
              "      <td>No</td>\n",
              "      <td>Travel_Frequently</td>\n",
              "      <td>Research &amp; Development</td>\n",
              "      <td>8</td>\n",
              "      <td>1</td>\n",
              "      <td>Life Sciences</td>\n",
              "      <td>3</td>\n",
              "      <td>61</td>\n",
              "      <td>2</td>\n",
              "      <td>...</td>\n",
              "      <td>4</td>\n",
              "      <td>4</td>\n",
              "      <td>1</td>\n",
              "      <td>10</td>\n",
              "      <td>3</td>\n",
              "      <td>3</td>\n",
              "      <td>10</td>\n",
              "      <td>7</td>\n",
              "      <td>1</td>\n",
              "      <td>7</td>\n",
              "    </tr>\n",
              "    <tr>\n",
              "      <th>2</th>\n",
              "      <td>37</td>\n",
              "      <td>Yes</td>\n",
              "      <td>Travel_Rarely</td>\n",
              "      <td>Research &amp; Development</td>\n",
              "      <td>2</td>\n",
              "      <td>2</td>\n",
              "      <td>Other</td>\n",
              "      <td>4</td>\n",
              "      <td>92</td>\n",
              "      <td>2</td>\n",
              "      <td>...</td>\n",
              "      <td>3</td>\n",
              "      <td>2</td>\n",
              "      <td>0</td>\n",
              "      <td>7</td>\n",
              "      <td>3</td>\n",
              "      <td>3</td>\n",
              "      <td>0</td>\n",
              "      <td>0</td>\n",
              "      <td>0</td>\n",
              "      <td>0</td>\n",
              "    </tr>\n",
              "    <tr>\n",
              "      <th>3</th>\n",
              "      <td>33</td>\n",
              "      <td>No</td>\n",
              "      <td>Travel_Frequently</td>\n",
              "      <td>Research &amp; Development</td>\n",
              "      <td>3</td>\n",
              "      <td>4</td>\n",
              "      <td>Life Sciences</td>\n",
              "      <td>4</td>\n",
              "      <td>56</td>\n",
              "      <td>3</td>\n",
              "      <td>...</td>\n",
              "      <td>3</td>\n",
              "      <td>3</td>\n",
              "      <td>0</td>\n",
              "      <td>8</td>\n",
              "      <td>3</td>\n",
              "      <td>3</td>\n",
              "      <td>8</td>\n",
              "      <td>7</td>\n",
              "      <td>3</td>\n",
              "      <td>0</td>\n",
              "    </tr>\n",
              "    <tr>\n",
              "      <th>4</th>\n",
              "      <td>27</td>\n",
              "      <td>No</td>\n",
              "      <td>Travel_Rarely</td>\n",
              "      <td>Research &amp; Development</td>\n",
              "      <td>2</td>\n",
              "      <td>1</td>\n",
              "      <td>Medical</td>\n",
              "      <td>1</td>\n",
              "      <td>40</td>\n",
              "      <td>3</td>\n",
              "      <td>...</td>\n",
              "      <td>3</td>\n",
              "      <td>4</td>\n",
              "      <td>1</td>\n",
              "      <td>6</td>\n",
              "      <td>3</td>\n",
              "      <td>3</td>\n",
              "      <td>2</td>\n",
              "      <td>2</td>\n",
              "      <td>2</td>\n",
              "      <td>2</td>\n",
              "    </tr>\n",
              "  </tbody>\n",
              "</table>\n",
              "<p>5 rows × 27 columns</p>\n",
              "</div>"
            ],
            "text/plain": [
              "   Age Attrition     BusinessTravel              Department  DistanceFromHome  \\\n",
              "0   41       Yes      Travel_Rarely                   Sales                 1   \n",
              "1   49        No  Travel_Frequently  Research & Development                 8   \n",
              "2   37       Yes      Travel_Rarely  Research & Development                 2   \n",
              "3   33        No  Travel_Frequently  Research & Development                 3   \n",
              "4   27        No      Travel_Rarely  Research & Development                 2   \n",
              "\n",
              "   Education EducationField  EnvironmentSatisfaction  HourlyRate  \\\n",
              "0          2  Life Sciences                        2          94   \n",
              "1          1  Life Sciences                        3          61   \n",
              "2          2          Other                        4          92   \n",
              "3          4  Life Sciences                        4          56   \n",
              "4          1        Medical                        1          40   \n",
              "\n",
              "   JobInvolvement  ...  PerformanceRating RelationshipSatisfaction  \\\n",
              "0               3  ...                  3                        1   \n",
              "1               2  ...                  4                        4   \n",
              "2               2  ...                  3                        2   \n",
              "3               3  ...                  3                        3   \n",
              "4               3  ...                  3                        4   \n",
              "\n",
              "   StockOptionLevel TotalWorkingYears  TrainingTimesLastYear WorkLifeBalance  \\\n",
              "0                 0                 8                      0               1   \n",
              "1                 1                10                      3               3   \n",
              "2                 0                 7                      3               3   \n",
              "3                 0                 8                      3               3   \n",
              "4                 1                 6                      3               3   \n",
              "\n",
              "   YearsAtCompany  YearsInCurrentRole  YearsSinceLastPromotion  \\\n",
              "0               6                   4                        0   \n",
              "1              10                   7                        1   \n",
              "2               0                   0                        0   \n",
              "3               8                   7                        3   \n",
              "4               2                   2                        2   \n",
              "\n",
              "   YearsWithCurrManager  \n",
              "0                     5  \n",
              "1                     7  \n",
              "2                     0  \n",
              "3                     0  \n",
              "4                     2  \n",
              "\n",
              "[5 rows x 27 columns]"
            ]
          },
          "execution_count": 1,
          "metadata": {},
          "output_type": "execute_result"
        }
      ],
      "source": [
        "# Import our dependencies\n",
        "from sklearn.model_selection import train_test_split\n",
        "from sklearn.preprocessing import StandardScaler\n",
        "import pandas as pd\n",
        "import numpy as np\n",
        "from tensorflow.keras.models import Model\n",
        "from tensorflow.keras import layers\n",
        "\n",
        "#  Import and read the attrition data\n",
        "attrition_df = pd.read_csv('https://static.bc-edx.com/ai/ail-v-1-0/m19/lms/datasets/attrition.csv')\n",
        "attrition_df.head()"
      ]
    },
    {
      "cell_type": "code",
      "execution_count": 2,
      "metadata": {
        "colab": {
          "base_uri": "https://localhost:8080/"
        },
        "id": "g22aQSY4Gc3Q",
        "outputId": "1f5c13c1-b981-4e40-a7ed-dd3fe6f1b81e"
      },
      "outputs": [
        {
          "data": {
            "text/plain": [
              "HourlyRate                  71\n",
              "Age                         43\n",
              "TotalWorkingYears           40\n",
              "YearsAtCompany              37\n",
              "DistanceFromHome            29\n",
              "YearsInCurrentRole          19\n",
              "YearsWithCurrManager        18\n",
              "YearsSinceLastPromotion     16\n",
              "PercentSalaryHike           15\n",
              "NumCompaniesWorked          10\n",
              "JobRole                      9\n",
              "TrainingTimesLastYear        7\n",
              "EducationField               6\n",
              "JobLevel                     5\n",
              "Education                    5\n",
              "EnvironmentSatisfaction      4\n",
              "JobInvolvement               4\n",
              "JobSatisfaction              4\n",
              "RelationshipSatisfaction     4\n",
              "StockOptionLevel             4\n",
              "WorkLifeBalance              4\n",
              "Department                   3\n",
              "BusinessTravel               3\n",
              "MaritalStatus                3\n",
              "OverTime                     2\n",
              "Attrition                    2\n",
              "PerformanceRating            2\n",
              "dtype: int64"
            ]
          },
          "execution_count": 2,
          "metadata": {},
          "output_type": "execute_result"
        }
      ],
      "source": [
        "# Determine the number of unique values in each column.\n",
        "attrition_df.nunique().sort_values(ascending=False)"
      ]
    },
    {
      "cell_type": "code",
      "execution_count": 3,
      "metadata": {
        "id": "50vMgBEnJbfM"
      },
      "outputs": [],
      "source": [
        "# Create y_df with the Attrition and Department columns\n",
        "y_df = attrition_df[[\"Attrition\", \"Department\"]]\n"
      ]
    },
    {
      "cell_type": "code",
      "execution_count": 4,
      "metadata": {
        "colab": {
          "base_uri": "https://localhost:8080/"
        },
        "id": "Virka0zLGc3R",
        "outputId": "dd5aee3a-9458-4ba6-e857-1b234de40915"
      },
      "outputs": [
        {
          "name": "stdout",
          "output_type": "stream",
          "text": [
            "<class 'pandas.core.frame.DataFrame'>\n",
            "RangeIndex: 1470 entries, 0 to 1469\n",
            "Data columns (total 25 columns):\n",
            " #   Column                    Non-Null Count  Dtype \n",
            "---  ------                    --------------  ----- \n",
            " 0   Age                       1470 non-null   int64 \n",
            " 1   BusinessTravel            1470 non-null   object\n",
            " 2   DistanceFromHome          1470 non-null   int64 \n",
            " 3   Education                 1470 non-null   int64 \n",
            " 4   EducationField            1470 non-null   object\n",
            " 5   EnvironmentSatisfaction   1470 non-null   int64 \n",
            " 6   HourlyRate                1470 non-null   int64 \n",
            " 7   JobInvolvement            1470 non-null   int64 \n",
            " 8   JobLevel                  1470 non-null   int64 \n",
            " 9   JobRole                   1470 non-null   object\n",
            " 10  JobSatisfaction           1470 non-null   int64 \n",
            " 11  MaritalStatus             1470 non-null   object\n",
            " 12  NumCompaniesWorked        1470 non-null   int64 \n",
            " 13  OverTime                  1470 non-null   object\n",
            " 14  PercentSalaryHike         1470 non-null   int64 \n",
            " 15  PerformanceRating         1470 non-null   int64 \n",
            " 16  RelationshipSatisfaction  1470 non-null   int64 \n",
            " 17  StockOptionLevel          1470 non-null   int64 \n",
            " 18  TotalWorkingYears         1470 non-null   int64 \n",
            " 19  TrainingTimesLastYear     1470 non-null   int64 \n",
            " 20  WorkLifeBalance           1470 non-null   int64 \n",
            " 21  YearsAtCompany            1470 non-null   int64 \n",
            " 22  YearsInCurrentRole        1470 non-null   int64 \n",
            " 23  YearsSinceLastPromotion   1470 non-null   int64 \n",
            " 24  YearsWithCurrManager      1470 non-null   int64 \n",
            "dtypes: int64(20), object(5)\n",
            "memory usage: 287.2+ KB\n"
          ]
        }
      ],
      "source": [
        "# Create a list of at least 10 column names to use as X data\n",
        "X_columns_to_include = [\n",
        "    column_name\n",
        "    for column_name in attrition_df.columns\n",
        "    if column_name not in (\"Attrition\", \"Department\")\n",
        "]\n",
        "\n",
        "\n",
        "# Create X_df using your selected columns\n",
        "X_df = attrition_df[X_columns_to_include]\n",
        "\n",
        "# Show the data types for X_df\n",
        "X_df.info()\n"
      ]
    },
    {
      "cell_type": "code",
      "execution_count": 5,
      "metadata": {
        "id": "KaJfdOGUMHMR"
      },
      "outputs": [],
      "source": [
        "# Split the data into training and testing sets\n",
        "from sklearn.model_selection import train_test_split\n",
        "\n",
        "X_train, X_test, y_train, y_test = train_test_split(X_df, y_df, test_size=0.2, random_state=42)"
      ]
    },
    {
      "cell_type": "code",
      "execution_count": 6,
      "metadata": {
        "colab": {
          "base_uri": "https://localhost:8080/"
        },
        "id": "NYubUJqiLCSp",
        "outputId": "53f31721-571c-4c94-d13e-25a715749593"
      },
      "outputs": [
        {
          "name": "stdout",
          "output_type": "stream",
          "text": [
            "Value counts for OverTime in training set:\n",
            "0    837\n",
            "1    339\n",
            "Name: OverTime, dtype: int64\n",
            "Value counts for BusinessTravel in training set:\n",
            "2    835\n",
            "1    228\n",
            "0    113\n",
            "Name: BusinessTravel, dtype: int64\n",
            "Value counts for EducationField in training set:\n",
            "1    491\n",
            "3    369\n",
            "2    124\n",
            "5    101\n",
            "4     69\n",
            "0     22\n",
            "Name: EducationField, dtype: int64\n",
            "Value counts for JobRole in training set:\n",
            "7    254\n",
            "6    242\n",
            "2    204\n",
            "4    107\n",
            "0    105\n",
            "3     79\n",
            "8     75\n",
            "5     68\n",
            "1     42\n",
            "Name: JobRole, dtype: int64\n",
            "Value counts for MaritalStatus in training set:\n",
            "1    550\n",
            "2    359\n",
            "0    267\n",
            "Name: MaritalStatus, dtype: int64\n",
            "Value counts for OverTime in test set:\n",
            "0    217\n",
            "1     77\n",
            "Name: OverTime, dtype: int64\n",
            "Value counts for BusinessTravel in test set:\n",
            "2    208\n",
            "1     49\n",
            "0     37\n",
            "Name: BusinessTravel, dtype: int64\n",
            "Value counts for EducationField in test set:\n",
            "1    115\n",
            "3     95\n",
            "2     35\n",
            "5     31\n",
            "4     13\n",
            "0      5\n",
            "Name: EducationField, dtype: int64\n",
            "Value counts for JobRole in test set:\n",
            "7    72\n",
            "2    55\n",
            "6    50\n",
            "4    38\n",
            "0    26\n",
            "3    23\n",
            "5    12\n",
            "1    10\n",
            "8     8\n",
            "Name: JobRole, dtype: int64\n",
            "Value counts for MaritalStatus in test set:\n",
            "1    123\n",
            "2    111\n",
            "0     60\n",
            "Name: MaritalStatus, dtype: int64\n"
          ]
        }
      ],
      "source": [
        "# Convert your X data to numeric data types however you see fit\n",
        "# Add new code cells as necessary\n",
        "from sklearn.preprocessing import LabelEncoder\n",
        "\n",
        "# Create an instance of the label encoder\n",
        "le = LabelEncoder()\n",
        "\n",
        "# List of categorical columns to be encoded\n",
        "categorical_columns = [\n",
        "    \"OverTime\",\n",
        "    \"BusinessTravel\",\n",
        "    \"EducationField\",\n",
        "    \"JobRole\",\n",
        "    \"MaritalStatus\",\n",
        "]\n",
        "\n",
        "# Fit the label encoder on the combined data from both training and test sets\n",
        "for column in categorical_columns:\n",
        "    combined_data = list(X_train[column]) + list(X_test[column])\n",
        "    le.fit(combined_data)\n",
        "\n",
        "    # Transform the training data\n",
        "    X_train[column] = le.transform(X_train[column])\n",
        "\n",
        "    # Transform the test data\n",
        "    X_test[column] = le.transform(X_test[column])\n",
        "\n",
        "# Print value counts for each encoded column in the training set\n",
        "for column in categorical_columns:\n",
        "    print(f\"Value counts for {column} in training set:\")\n",
        "    print(X_train[column].value_counts())\n",
        "\n",
        "# Print value counts for each encoded column in the test set\n",
        "for column in categorical_columns:\n",
        "    print(f\"Value counts for {column} in test set:\")\n",
        "    print(X_test[column].value_counts())"
      ]
    },
    {
      "cell_type": "code",
      "execution_count": 7,
      "metadata": {
        "id": "EWA-aIA5Gc3T"
      },
      "outputs": [],
      "source": [
        "# Create a StandardScaler\n",
        "scaler = StandardScaler()\n",
        "\n",
        "# Fit the StandardScaler to the training data\n",
        "X_scaler = scaler.fit(X_train)\n",
        "\n",
        "# Scale the training and testing data\n",
        "X_train_scaled = X_scaler.transform(X_train)\n",
        "X_test_scaled = X_scaler.transform(X_test)\n"
      ]
    },
    {
      "cell_type": "code",
      "execution_count": 9,
      "metadata": {},
      "outputs": [
        {
          "data": {
            "text/html": [
              "<div>\n",
              "<style scoped>\n",
              "    .dataframe tbody tr th:only-of-type {\n",
              "        vertical-align: middle;\n",
              "    }\n",
              "\n",
              "    .dataframe tbody tr th {\n",
              "        vertical-align: top;\n",
              "    }\n",
              "\n",
              "    .dataframe thead th {\n",
              "        text-align: right;\n",
              "    }\n",
              "</style>\n",
              "<table border=\"1\" class=\"dataframe\">\n",
              "  <thead>\n",
              "    <tr style=\"text-align: right;\">\n",
              "      <th></th>\n",
              "      <th>Age</th>\n",
              "      <th>BusinessTravel</th>\n",
              "      <th>DistanceFromHome</th>\n",
              "      <th>Education</th>\n",
              "      <th>EducationField</th>\n",
              "      <th>EnvironmentSatisfaction</th>\n",
              "      <th>HourlyRate</th>\n",
              "      <th>JobInvolvement</th>\n",
              "      <th>JobLevel</th>\n",
              "      <th>JobRole</th>\n",
              "      <th>...</th>\n",
              "      <th>PerformanceRating</th>\n",
              "      <th>RelationshipSatisfaction</th>\n",
              "      <th>StockOptionLevel</th>\n",
              "      <th>TotalWorkingYears</th>\n",
              "      <th>TrainingTimesLastYear</th>\n",
              "      <th>WorkLifeBalance</th>\n",
              "      <th>YearsAtCompany</th>\n",
              "      <th>YearsInCurrentRole</th>\n",
              "      <th>YearsSinceLastPromotion</th>\n",
              "      <th>YearsWithCurrManager</th>\n",
              "    </tr>\n",
              "  </thead>\n",
              "  <tbody>\n",
              "    <tr>\n",
              "      <th>0</th>\n",
              "      <td>-1.388559</td>\n",
              "      <td>0.589281</td>\n",
              "      <td>1.440396</td>\n",
              "      <td>-0.863356</td>\n",
              "      <td>2.085607</td>\n",
              "      <td>0.279706</td>\n",
              "      <td>-0.472832</td>\n",
              "      <td>-1.012340</td>\n",
              "      <td>-0.932274</td>\n",
              "      <td>-1.008801</td>\n",
              "      <td>...</td>\n",
              "      <td>-0.429290</td>\n",
              "      <td>-0.639822</td>\n",
              "      <td>2.547471</td>\n",
              "      <td>-1.167368</td>\n",
              "      <td>0.157319</td>\n",
              "      <td>0.357435</td>\n",
              "      <td>-0.974263</td>\n",
              "      <td>-0.888208</td>\n",
              "      <td>-0.676110</td>\n",
              "      <td>-1.142448</td>\n",
              "    </tr>\n",
              "    <tr>\n",
              "      <th>1</th>\n",
              "      <td>-2.040738</td>\n",
              "      <td>-2.463556</td>\n",
              "      <td>-0.522699</td>\n",
              "      <td>-0.863356</td>\n",
              "      <td>-0.930284</td>\n",
              "      <td>-0.639104</td>\n",
              "      <td>0.309374</td>\n",
              "      <td>0.389912</td>\n",
              "      <td>-0.932274</td>\n",
              "      <td>0.609133</td>\n",
              "      <td>...</td>\n",
              "      <td>-0.429290</td>\n",
              "      <td>1.211176</td>\n",
              "      <td>-0.945525</td>\n",
              "      <td>-1.423397</td>\n",
              "      <td>-0.613546</td>\n",
              "      <td>0.357435</td>\n",
              "      <td>-1.138573</td>\n",
              "      <td>-1.165051</td>\n",
              "      <td>-0.676110</td>\n",
              "      <td>-1.142448</td>\n",
              "    </tr>\n",
              "    <tr>\n",
              "      <th>2</th>\n",
              "      <td>-0.845077</td>\n",
              "      <td>0.589281</td>\n",
              "      <td>1.317703</td>\n",
              "      <td>-0.863356</td>\n",
              "      <td>-0.176312</td>\n",
              "      <td>1.198515</td>\n",
              "      <td>-1.059487</td>\n",
              "      <td>0.389912</td>\n",
              "      <td>-0.025447</td>\n",
              "      <td>1.013617</td>\n",
              "      <td>...</td>\n",
              "      <td>-0.429290</td>\n",
              "      <td>1.211176</td>\n",
              "      <td>0.218807</td>\n",
              "      <td>-0.143254</td>\n",
              "      <td>-0.613546</td>\n",
              "      <td>0.357435</td>\n",
              "      <td>-0.645643</td>\n",
              "      <td>-0.611364</td>\n",
              "      <td>-0.676110</td>\n",
              "      <td>-0.575084</td>\n",
              "    </tr>\n",
              "    <tr>\n",
              "      <th>3</th>\n",
              "      <td>0.241886</td>\n",
              "      <td>0.589281</td>\n",
              "      <td>0.336155</td>\n",
              "      <td>0.099933</td>\n",
              "      <td>0.577661</td>\n",
              "      <td>1.198515</td>\n",
              "      <td>-0.032841</td>\n",
              "      <td>0.389912</td>\n",
              "      <td>-0.025447</td>\n",
              "      <td>-0.199834</td>\n",
              "      <td>...</td>\n",
              "      <td>2.329427</td>\n",
              "      <td>0.285677</td>\n",
              "      <td>-0.945525</td>\n",
              "      <td>-0.527297</td>\n",
              "      <td>0.157319</td>\n",
              "      <td>0.357435</td>\n",
              "      <td>-0.317023</td>\n",
              "      <td>-0.057676</td>\n",
              "      <td>-0.355244</td>\n",
              "      <td>-1.142448</td>\n",
              "    </tr>\n",
              "    <tr>\n",
              "      <th>4</th>\n",
              "      <td>-0.627685</td>\n",
              "      <td>0.589281</td>\n",
              "      <td>1.317703</td>\n",
              "      <td>0.099933</td>\n",
              "      <td>-0.930284</td>\n",
              "      <td>-0.639104</td>\n",
              "      <td>1.091580</td>\n",
              "      <td>0.389912</td>\n",
              "      <td>-0.025447</td>\n",
              "      <td>-1.008801</td>\n",
              "      <td>...</td>\n",
              "      <td>-0.429290</td>\n",
              "      <td>-1.565321</td>\n",
              "      <td>0.218807</td>\n",
              "      <td>-0.143254</td>\n",
              "      <td>-0.613546</td>\n",
              "      <td>0.357435</td>\n",
              "      <td>0.504527</td>\n",
              "      <td>1.049700</td>\n",
              "      <td>-0.676110</td>\n",
              "      <td>-0.575084</td>\n",
              "    </tr>\n",
              "  </tbody>\n",
              "</table>\n",
              "<p>5 rows × 25 columns</p>\n",
              "</div>"
            ],
            "text/plain": [
              "        Age  BusinessTravel  DistanceFromHome  Education  EducationField  \\\n",
              "0 -1.388559        0.589281          1.440396  -0.863356        2.085607   \n",
              "1 -2.040738       -2.463556         -0.522699  -0.863356       -0.930284   \n",
              "2 -0.845077        0.589281          1.317703  -0.863356       -0.176312   \n",
              "3  0.241886        0.589281          0.336155   0.099933        0.577661   \n",
              "4 -0.627685        0.589281          1.317703   0.099933       -0.930284   \n",
              "\n",
              "   EnvironmentSatisfaction  HourlyRate  JobInvolvement  JobLevel   JobRole  \\\n",
              "0                 0.279706   -0.472832       -1.012340 -0.932274 -1.008801   \n",
              "1                -0.639104    0.309374        0.389912 -0.932274  0.609133   \n",
              "2                 1.198515   -1.059487        0.389912 -0.025447  1.013617   \n",
              "3                 1.198515   -0.032841        0.389912 -0.025447 -0.199834   \n",
              "4                -0.639104    1.091580        0.389912 -0.025447 -1.008801   \n",
              "\n",
              "   ...  PerformanceRating  RelationshipSatisfaction  StockOptionLevel  \\\n",
              "0  ...          -0.429290                 -0.639822          2.547471   \n",
              "1  ...          -0.429290                  1.211176         -0.945525   \n",
              "2  ...          -0.429290                  1.211176          0.218807   \n",
              "3  ...           2.329427                  0.285677         -0.945525   \n",
              "4  ...          -0.429290                 -1.565321          0.218807   \n",
              "\n",
              "   TotalWorkingYears  TrainingTimesLastYear  WorkLifeBalance  YearsAtCompany  \\\n",
              "0          -1.167368               0.157319         0.357435       -0.974263   \n",
              "1          -1.423397              -0.613546         0.357435       -1.138573   \n",
              "2          -0.143254              -0.613546         0.357435       -0.645643   \n",
              "3          -0.527297               0.157319         0.357435       -0.317023   \n",
              "4          -0.143254              -0.613546         0.357435        0.504527   \n",
              "\n",
              "   YearsInCurrentRole  YearsSinceLastPromotion  YearsWithCurrManager  \n",
              "0           -0.888208                -0.676110             -1.142448  \n",
              "1           -1.165051                -0.676110             -1.142448  \n",
              "2           -0.611364                -0.676110             -0.575084  \n",
              "3           -0.057676                -0.355244             -1.142448  \n",
              "4            1.049700                -0.676110             -0.575084  \n",
              "\n",
              "[5 rows x 25 columns]"
            ]
          },
          "execution_count": 9,
          "metadata": {},
          "output_type": "execute_result"
        }
      ],
      "source": [
        "pd.DataFrame(X_train_scaled, columns=X_train.columns).head()"
      ]
    },
    {
      "cell_type": "code",
      "execution_count": 13,
      "metadata": {
        "colab": {
          "base_uri": "https://localhost:8080/"
        },
        "id": "-z0Mky8vQSz4",
        "outputId": "debefc85-c20b-48f5-f4d9-91eadd65d36a"
      },
      "outputs": [
        {
          "data": {
            "text/plain": [
              "array([[0., 1., 0.],\n",
              "       [0., 1., 0.],\n",
              "       [0., 0., 1.],\n",
              "       ...,\n",
              "       [0., 1., 0.],\n",
              "       [0., 1., 0.],\n",
              "       [0., 0., 1.]])"
            ]
          },
          "execution_count": 13,
          "metadata": {},
          "output_type": "execute_result"
        }
      ],
      "source": [
        "# Create a OneHotEncoder for the Department column\n",
        "from sklearn.preprocessing import OneHotEncoder\n",
        "dept_encoder = OneHotEncoder(sparse_output=False)\n",
        "\n",
        "# Fit the encoder to the training data\n",
        "dept_encoder.fit(y_train['Department'].values.reshape(-1,1))\n",
        "\n",
        "# Create two new variables by applying the encoder\n",
        "# to the training and testing data\n",
        "encoded_train_Department = dept_encoder.transform(y_train['Department'].values.reshape(-1,1))\n",
        "encoded_test_Department = dept_encoder.transform(y_test['Department'].values.reshape(-1,1))\n",
        "\n",
        "encoded_train_Department[:]\n",
        "\n"
      ]
    },
    {
      "cell_type": "code",
      "execution_count": 14,
      "metadata": {
        "colab": {
          "base_uri": "https://localhost:8080/"
        },
        "id": "-G4DSpvFRrk4",
        "outputId": "9842e948-8a55-4b80-8fac-f96714e85589"
      },
      "outputs": [
        {
          "data": {
            "text/plain": [
              "array([[1., 0.],\n",
              "       [1., 0.],\n",
              "       [1., 0.],\n",
              "       ...,\n",
              "       [0., 1.],\n",
              "       [1., 0.],\n",
              "       [1., 0.]])"
            ]
          },
          "execution_count": 14,
          "metadata": {},
          "output_type": "execute_result"
        }
      ],
      "source": [
        "# Create a OneHotEncoder for the Attrition column\n",
        "attr_encoder = OneHotEncoder(sparse_output=False)\n",
        "\n",
        "# Fit the encoder to the training data\n",
        "attr_encoder.fit(y_train['Attrition'].values.reshape(-1,1))\n",
        "\n",
        "# Create two new variables by applying the encoder\n",
        "# to the training and testing data\n",
        "encoded_train_Attrition = attr_encoder.transform(y_train['Attrition'].values.reshape(-1,1))\n",
        "encoded_test_Attrition = attr_encoder.transform(y_test['Attrition'].values.reshape(-1,1))\n",
        "\n",
        "encoded_train_Attrition[:]\n"
      ]
    },
    {
      "cell_type": "markdown",
      "metadata": {
        "id": "ykNmu_WWGc3T"
      },
      "source": [
        "## Create, Compile, and Train the Model"
      ]
    },
    {
      "cell_type": "code",
      "execution_count": 15,
      "metadata": {
        "id": "WUptZqmSGc3T"
      },
      "outputs": [],
      "source": [
        "# Find the number of columns in the X training data\n",
        "input_features = X_train_scaled.shape[1]\n",
        "\n",
        "# Create the input layer\n",
        "input_layer = layers.Input(shape=(input_features,))\n",
        "\n",
        "# Create at least two shared layers\n",
        "shared_layer1 = layers.Dense(64, activation='relu', name='Shared_1')(input_layer)\n",
        "shared_layer2 = layers.Dense(32128, activation='relu', name='Shared_2')(shared_layer1)"
      ]
    },
    {
      "cell_type": "code",
      "execution_count": 16,
      "metadata": {
        "id": "JukjTm2yTEqd"
      },
      "outputs": [],
      "source": [
        "# Create a branch for Department\n",
        "# with a hidden layer and an output layer\n",
        "\n",
        "# Create the hidden layer\n",
        "branch_hidden_layer_1 = layers.Dense(32, activation='relu', name = 'hid_dept')(shared_layer2)\n",
        "\n",
        "# Create the output layer\n",
        "output_layer = layers.Dense(3, activation='softmax', name = 'out_dept')(branch_hidden_layer_1)\n"
      ]
    },
    {
      "cell_type": "code",
      "execution_count": 17,
      "metadata": {
        "id": "9OqhUiOJUBkR"
      },
      "outputs": [],
      "source": [
        "# Create a branch for Attrition\n",
        "# with a hidden layer and an output layer\n",
        "\n",
        "# Create the hidden layer\n",
        "branch_hidden_layer_2 = layers.Dense(32, activation='relu', name = 'hid_attrition')(shared_layer2)\n",
        "\n",
        "# Create the output layer\n",
        "output_layer2 = layers.Dense(2, activation='sigmoid', name = 'out_attrition')(branch_hidden_layer_2)\n"
      ]
    },
    {
      "cell_type": "code",
      "execution_count": 18,
      "metadata": {
        "colab": {
          "base_uri": "https://localhost:8080/"
        },
        "id": "twmuejdxGc3T",
        "outputId": "25096308-b68b-42e4-e4ea-ae82e97c435a"
      },
      "outputs": [
        {
          "data": {
            "text/html": [
              "<pre style=\"white-space:pre;overflow-x:auto;line-height:normal;font-family:Menlo,'DejaVu Sans Mono',consolas,'Courier New',monospace\"><span style=\"font-weight: bold\">Model: \"functional_1\"</span>\n",
              "</pre>\n"
            ],
            "text/plain": [
              "\u001b[1mModel: \"functional_1\"\u001b[0m\n"
            ]
          },
          "metadata": {},
          "output_type": "display_data"
        },
        {
          "data": {
            "text/html": [
              "<pre style=\"white-space:pre;overflow-x:auto;line-height:normal;font-family:Menlo,'DejaVu Sans Mono',consolas,'Courier New',monospace\">┏━━━━━━━━━━━━━━━━━━━━━┳━━━━━━━━━━━━━━━━━━━┳━━━━━━━━━━━━┳━━━━━━━━━━━━━━━━━━━┓\n",
              "┃<span style=\"font-weight: bold\"> Layer (type)        </span>┃<span style=\"font-weight: bold\"> Output Shape      </span>┃<span style=\"font-weight: bold\">    Param # </span>┃<span style=\"font-weight: bold\"> Connected to      </span>┃\n",
              "┡━━━━━━━━━━━━━━━━━━━━━╇━━━━━━━━━━━━━━━━━━━╇━━━━━━━━━━━━╇━━━━━━━━━━━━━━━━━━━┩\n",
              "│ input_layer         │ (<span style=\"color: #00d7ff; text-decoration-color: #00d7ff\">None</span>, <span style=\"color: #00af00; text-decoration-color: #00af00\">25</span>)        │          <span style=\"color: #00af00; text-decoration-color: #00af00\">0</span> │ -                 │\n",
              "│ (<span style=\"color: #0087ff; text-decoration-color: #0087ff\">InputLayer</span>)        │                   │            │                   │\n",
              "├─────────────────────┼───────────────────┼────────────┼───────────────────┤\n",
              "│ Shared_1 (<span style=\"color: #0087ff; text-decoration-color: #0087ff\">Dense</span>)    │ (<span style=\"color: #00d7ff; text-decoration-color: #00d7ff\">None</span>, <span style=\"color: #00af00; text-decoration-color: #00af00\">64</span>)        │      <span style=\"color: #00af00; text-decoration-color: #00af00\">1,664</span> │ input_layer[<span style=\"color: #00af00; text-decoration-color: #00af00\">0</span>][<span style=\"color: #00af00; text-decoration-color: #00af00\">0</span>] │\n",
              "├─────────────────────┼───────────────────┼────────────┼───────────────────┤\n",
              "│ Shared_2 (<span style=\"color: #0087ff; text-decoration-color: #0087ff\">Dense</span>)    │ (<span style=\"color: #00d7ff; text-decoration-color: #00d7ff\">None</span>, <span style=\"color: #00af00; text-decoration-color: #00af00\">32128</span>)     │  <span style=\"color: #00af00; text-decoration-color: #00af00\">2,088,320</span> │ Shared_1[<span style=\"color: #00af00; text-decoration-color: #00af00\">0</span>][<span style=\"color: #00af00; text-decoration-color: #00af00\">0</span>]    │\n",
              "├─────────────────────┼───────────────────┼────────────┼───────────────────┤\n",
              "│ hid_dept (<span style=\"color: #0087ff; text-decoration-color: #0087ff\">Dense</span>)    │ (<span style=\"color: #00d7ff; text-decoration-color: #00d7ff\">None</span>, <span style=\"color: #00af00; text-decoration-color: #00af00\">32</span>)        │  <span style=\"color: #00af00; text-decoration-color: #00af00\">1,028,128</span> │ Shared_2[<span style=\"color: #00af00; text-decoration-color: #00af00\">0</span>][<span style=\"color: #00af00; text-decoration-color: #00af00\">0</span>]    │\n",
              "├─────────────────────┼───────────────────┼────────────┼───────────────────┤\n",
              "│ hid_attrition       │ (<span style=\"color: #00d7ff; text-decoration-color: #00d7ff\">None</span>, <span style=\"color: #00af00; text-decoration-color: #00af00\">32</span>)        │  <span style=\"color: #00af00; text-decoration-color: #00af00\">1,028,128</span> │ Shared_2[<span style=\"color: #00af00; text-decoration-color: #00af00\">0</span>][<span style=\"color: #00af00; text-decoration-color: #00af00\">0</span>]    │\n",
              "│ (<span style=\"color: #0087ff; text-decoration-color: #0087ff\">Dense</span>)             │                   │            │                   │\n",
              "├─────────────────────┼───────────────────┼────────────┼───────────────────┤\n",
              "│ out_dept (<span style=\"color: #0087ff; text-decoration-color: #0087ff\">Dense</span>)    │ (<span style=\"color: #00d7ff; text-decoration-color: #00d7ff\">None</span>, <span style=\"color: #00af00; text-decoration-color: #00af00\">3</span>)         │         <span style=\"color: #00af00; text-decoration-color: #00af00\">99</span> │ hid_dept[<span style=\"color: #00af00; text-decoration-color: #00af00\">0</span>][<span style=\"color: #00af00; text-decoration-color: #00af00\">0</span>]    │\n",
              "├─────────────────────┼───────────────────┼────────────┼───────────────────┤\n",
              "│ out_attrition       │ (<span style=\"color: #00d7ff; text-decoration-color: #00d7ff\">None</span>, <span style=\"color: #00af00; text-decoration-color: #00af00\">2</span>)         │         <span style=\"color: #00af00; text-decoration-color: #00af00\">66</span> │ hid_attrition[<span style=\"color: #00af00; text-decoration-color: #00af00\">0</span>]… │\n",
              "│ (<span style=\"color: #0087ff; text-decoration-color: #0087ff\">Dense</span>)             │                   │            │                   │\n",
              "└─────────────────────┴───────────────────┴────────────┴───────────────────┘\n",
              "</pre>\n"
            ],
            "text/plain": [
              "┏━━━━━━━━━━━━━━━━━━━━━┳━━━━━━━━━━━━━━━━━━━┳━━━━━━━━━━━━┳━━━━━━━━━━━━━━━━━━━┓\n",
              "┃\u001b[1m \u001b[0m\u001b[1mLayer (type)       \u001b[0m\u001b[1m \u001b[0m┃\u001b[1m \u001b[0m\u001b[1mOutput Shape     \u001b[0m\u001b[1m \u001b[0m┃\u001b[1m \u001b[0m\u001b[1m   Param #\u001b[0m\u001b[1m \u001b[0m┃\u001b[1m \u001b[0m\u001b[1mConnected to     \u001b[0m\u001b[1m \u001b[0m┃\n",
              "┡━━━━━━━━━━━━━━━━━━━━━╇━━━━━━━━━━━━━━━━━━━╇━━━━━━━━━━━━╇━━━━━━━━━━━━━━━━━━━┩\n",
              "│ input_layer         │ (\u001b[38;5;45mNone\u001b[0m, \u001b[38;5;34m25\u001b[0m)        │          \u001b[38;5;34m0\u001b[0m │ -                 │\n",
              "│ (\u001b[38;5;33mInputLayer\u001b[0m)        │                   │            │                   │\n",
              "├─────────────────────┼───────────────────┼────────────┼───────────────────┤\n",
              "│ Shared_1 (\u001b[38;5;33mDense\u001b[0m)    │ (\u001b[38;5;45mNone\u001b[0m, \u001b[38;5;34m64\u001b[0m)        │      \u001b[38;5;34m1,664\u001b[0m │ input_layer[\u001b[38;5;34m0\u001b[0m][\u001b[38;5;34m0\u001b[0m] │\n",
              "├─────────────────────┼───────────────────┼────────────┼───────────────────┤\n",
              "│ Shared_2 (\u001b[38;5;33mDense\u001b[0m)    │ (\u001b[38;5;45mNone\u001b[0m, \u001b[38;5;34m32128\u001b[0m)     │  \u001b[38;5;34m2,088,320\u001b[0m │ Shared_1[\u001b[38;5;34m0\u001b[0m][\u001b[38;5;34m0\u001b[0m]    │\n",
              "├─────────────────────┼───────────────────┼────────────┼───────────────────┤\n",
              "│ hid_dept (\u001b[38;5;33mDense\u001b[0m)    │ (\u001b[38;5;45mNone\u001b[0m, \u001b[38;5;34m32\u001b[0m)        │  \u001b[38;5;34m1,028,128\u001b[0m │ Shared_2[\u001b[38;5;34m0\u001b[0m][\u001b[38;5;34m0\u001b[0m]    │\n",
              "├─────────────────────┼───────────────────┼────────────┼───────────────────┤\n",
              "│ hid_attrition       │ (\u001b[38;5;45mNone\u001b[0m, \u001b[38;5;34m32\u001b[0m)        │  \u001b[38;5;34m1,028,128\u001b[0m │ Shared_2[\u001b[38;5;34m0\u001b[0m][\u001b[38;5;34m0\u001b[0m]    │\n",
              "│ (\u001b[38;5;33mDense\u001b[0m)             │                   │            │                   │\n",
              "├─────────────────────┼───────────────────┼────────────┼───────────────────┤\n",
              "│ out_dept (\u001b[38;5;33mDense\u001b[0m)    │ (\u001b[38;5;45mNone\u001b[0m, \u001b[38;5;34m3\u001b[0m)         │         \u001b[38;5;34m99\u001b[0m │ hid_dept[\u001b[38;5;34m0\u001b[0m][\u001b[38;5;34m0\u001b[0m]    │\n",
              "├─────────────────────┼───────────────────┼────────────┼───────────────────┤\n",
              "│ out_attrition       │ (\u001b[38;5;45mNone\u001b[0m, \u001b[38;5;34m2\u001b[0m)         │         \u001b[38;5;34m66\u001b[0m │ hid_attrition[\u001b[38;5;34m0\u001b[0m]… │\n",
              "│ (\u001b[38;5;33mDense\u001b[0m)             │                   │            │                   │\n",
              "└─────────────────────┴───────────────────┴────────────┴───────────────────┘\n"
            ]
          },
          "metadata": {},
          "output_type": "display_data"
        },
        {
          "data": {
            "text/html": [
              "<pre style=\"white-space:pre;overflow-x:auto;line-height:normal;font-family:Menlo,'DejaVu Sans Mono',consolas,'Courier New',monospace\"><span style=\"font-weight: bold\"> Total params: </span><span style=\"color: #00af00; text-decoration-color: #00af00\">4,146,405</span> (15.82 MB)\n",
              "</pre>\n"
            ],
            "text/plain": [
              "\u001b[1m Total params: \u001b[0m\u001b[38;5;34m4,146,405\u001b[0m (15.82 MB)\n"
            ]
          },
          "metadata": {},
          "output_type": "display_data"
        },
        {
          "data": {
            "text/html": [
              "<pre style=\"white-space:pre;overflow-x:auto;line-height:normal;font-family:Menlo,'DejaVu Sans Mono',consolas,'Courier New',monospace\"><span style=\"font-weight: bold\"> Trainable params: </span><span style=\"color: #00af00; text-decoration-color: #00af00\">4,146,405</span> (15.82 MB)\n",
              "</pre>\n"
            ],
            "text/plain": [
              "\u001b[1m Trainable params: \u001b[0m\u001b[38;5;34m4,146,405\u001b[0m (15.82 MB)\n"
            ]
          },
          "metadata": {},
          "output_type": "display_data"
        },
        {
          "data": {
            "text/html": [
              "<pre style=\"white-space:pre;overflow-x:auto;line-height:normal;font-family:Menlo,'DejaVu Sans Mono',consolas,'Courier New',monospace\"><span style=\"font-weight: bold\"> Non-trainable params: </span><span style=\"color: #00af00; text-decoration-color: #00af00\">0</span> (0.00 B)\n",
              "</pre>\n"
            ],
            "text/plain": [
              "\u001b[1m Non-trainable params: \u001b[0m\u001b[38;5;34m0\u001b[0m (0.00 B)\n"
            ]
          },
          "metadata": {},
          "output_type": "display_data"
        }
      ],
      "source": [
        "# Create the model\n",
        "model = Model(inputs=input_layer, outputs=[output_layer, output_layer2])\n",
        "\n",
        "# Compile the model\n",
        "model.compile(optimizer='adam',\n",
        "              loss={'out_dept': 'categorical_crossentropy', 'out_attrition': 'categorical_crossentropy'},\n",
        "              metrics={'out_dept':'accuracy', 'out_attrition':'accuracy'})\n",
        "\n",
        "# Summarize the model\n",
        "model.summary()"
      ]
    },
    {
      "cell_type": "code",
      "execution_count": 19,
      "metadata": {
        "colab": {
          "base_uri": "https://localhost:8080/"
        },
        "id": "c8oGy0dpGc3U",
        "outputId": "cc667d43-28cf-42d4-d719-c2bc02888d30"
      },
      "outputs": [
        {
          "name": "stdout",
          "output_type": "stream",
          "text": [
            "Epoch 1/100\n",
            "37/37 - 2s - 49ms/step - loss: 1.1065 - out_attrition_accuracy: 0.8206 - out_dept_accuracy: 0.7304\n",
            "Epoch 2/100\n",
            "37/37 - 1s - 16ms/step - loss: 0.7916 - out_attrition_accuracy: 0.8316 - out_dept_accuracy: 0.8376\n",
            "Epoch 3/100\n",
            "37/37 - 1s - 15ms/step - loss: 0.6945 - out_attrition_accuracy: 0.8316 - out_dept_accuracy: 0.8827\n",
            "Epoch 4/100\n",
            "37/37 - 1s - 15ms/step - loss: 0.5995 - out_attrition_accuracy: 0.8316 - out_dept_accuracy: 0.9039\n",
            "Epoch 5/100\n",
            "37/37 - 1s - 16ms/step - loss: 0.5296 - out_attrition_accuracy: 0.8469 - out_dept_accuracy: 0.9116\n",
            "Epoch 6/100\n",
            "37/37 - 1s - 16ms/step - loss: 0.4522 - out_attrition_accuracy: 0.8810 - out_dept_accuracy: 0.9260\n",
            "Epoch 7/100\n",
            "37/37 - 1s - 18ms/step - loss: 0.4020 - out_attrition_accuracy: 0.8869 - out_dept_accuracy: 0.9464\n",
            "Epoch 8/100\n",
            "37/37 - 1s - 18ms/step - loss: 0.3318 - out_attrition_accuracy: 0.9192 - out_dept_accuracy: 0.9600\n",
            "Epoch 9/100\n",
            "37/37 - 1s - 17ms/step - loss: 0.2809 - out_attrition_accuracy: 0.9141 - out_dept_accuracy: 0.9736\n",
            "Epoch 10/100\n",
            "37/37 - 1s - 17ms/step - loss: 0.2321 - out_attrition_accuracy: 0.9362 - out_dept_accuracy: 0.9821\n",
            "Epoch 11/100\n",
            "37/37 - 1s - 17ms/step - loss: 0.2292 - out_attrition_accuracy: 0.9379 - out_dept_accuracy: 0.9855\n",
            "Epoch 12/100\n",
            "37/37 - 1s - 17ms/step - loss: 0.1802 - out_attrition_accuracy: 0.9481 - out_dept_accuracy: 0.9966\n",
            "Epoch 13/100\n",
            "37/37 - 1s - 17ms/step - loss: 0.1563 - out_attrition_accuracy: 0.9558 - out_dept_accuracy: 0.9983\n",
            "Epoch 14/100\n",
            "37/37 - 1s - 16ms/step - loss: 0.1350 - out_attrition_accuracy: 0.9694 - out_dept_accuracy: 0.9991\n",
            "Epoch 15/100\n",
            "37/37 - 1s - 16ms/step - loss: 0.1388 - out_attrition_accuracy: 0.9617 - out_dept_accuracy: 1.0000\n",
            "Epoch 16/100\n",
            "37/37 - 1s - 16ms/step - loss: 0.1224 - out_attrition_accuracy: 0.9745 - out_dept_accuracy: 1.0000\n",
            "Epoch 17/100\n",
            "37/37 - 1s - 16ms/step - loss: 0.1293 - out_attrition_accuracy: 0.9702 - out_dept_accuracy: 1.0000\n",
            "Epoch 18/100\n",
            "37/37 - 1s - 15ms/step - loss: 0.1084 - out_attrition_accuracy: 0.9745 - out_dept_accuracy: 1.0000\n",
            "Epoch 19/100\n",
            "37/37 - 1s - 15ms/step - loss: 0.1004 - out_attrition_accuracy: 0.9779 - out_dept_accuracy: 1.0000\n",
            "Epoch 20/100\n",
            "37/37 - 1s - 15ms/step - loss: 0.1083 - out_attrition_accuracy: 0.9719 - out_dept_accuracy: 1.0000\n",
            "Epoch 21/100\n",
            "37/37 - 1s - 17ms/step - loss: 0.1030 - out_attrition_accuracy: 0.9762 - out_dept_accuracy: 1.0000\n",
            "Epoch 22/100\n",
            "37/37 - 1s - 15ms/step - loss: 0.0886 - out_attrition_accuracy: 0.9830 - out_dept_accuracy: 1.0000\n",
            "Epoch 23/100\n",
            "37/37 - 1s - 15ms/step - loss: 0.0818 - out_attrition_accuracy: 0.9872 - out_dept_accuracy: 1.0000\n",
            "Epoch 24/100\n",
            "37/37 - 1s - 17ms/step - loss: 0.0740 - out_attrition_accuracy: 0.9906 - out_dept_accuracy: 1.0000\n",
            "Epoch 25/100\n",
            "37/37 - 1s - 18ms/step - loss: 0.0694 - out_attrition_accuracy: 0.9915 - out_dept_accuracy: 1.0000\n",
            "Epoch 26/100\n",
            "37/37 - 1s - 18ms/step - loss: 0.0659 - out_attrition_accuracy: 0.9915 - out_dept_accuracy: 1.0000\n",
            "Epoch 27/100\n",
            "37/37 - 1s - 18ms/step - loss: 0.0635 - out_attrition_accuracy: 0.9915 - out_dept_accuracy: 1.0000\n",
            "Epoch 28/100\n",
            "37/37 - 1s - 19ms/step - loss: 0.0610 - out_attrition_accuracy: 0.9923 - out_dept_accuracy: 1.0000\n",
            "Epoch 29/100\n",
            "37/37 - 1s - 20ms/step - loss: 0.0601 - out_attrition_accuracy: 0.9915 - out_dept_accuracy: 1.0000\n",
            "Epoch 30/100\n",
            "37/37 - 1s - 20ms/step - loss: 0.0574 - out_attrition_accuracy: 0.9923 - out_dept_accuracy: 1.0000\n",
            "Epoch 31/100\n",
            "37/37 - 1s - 19ms/step - loss: 0.0553 - out_attrition_accuracy: 0.9923 - out_dept_accuracy: 1.0000\n",
            "Epoch 32/100\n",
            "37/37 - 1s - 21ms/step - loss: 0.0538 - out_attrition_accuracy: 0.9923 - out_dept_accuracy: 1.0000\n",
            "Epoch 33/100\n",
            "37/37 - 1s - 20ms/step - loss: 0.0525 - out_attrition_accuracy: 0.9923 - out_dept_accuracy: 1.0000\n",
            "Epoch 34/100\n",
            "37/37 - 1s - 20ms/step - loss: 0.0513 - out_attrition_accuracy: 0.9923 - out_dept_accuracy: 1.0000\n",
            "Epoch 35/100\n",
            "37/37 - 1s - 25ms/step - loss: 0.0501 - out_attrition_accuracy: 0.9923 - out_dept_accuracy: 1.0000\n",
            "Epoch 36/100\n",
            "37/37 - 1s - 23ms/step - loss: 0.0490 - out_attrition_accuracy: 0.9923 - out_dept_accuracy: 1.0000\n",
            "Epoch 37/100\n",
            "37/37 - 1s - 21ms/step - loss: 0.0480 - out_attrition_accuracy: 0.9923 - out_dept_accuracy: 1.0000\n",
            "Epoch 38/100\n",
            "37/37 - 1s - 22ms/step - loss: 0.0471 - out_attrition_accuracy: 0.9923 - out_dept_accuracy: 1.0000\n",
            "Epoch 39/100\n",
            "37/37 - 1s - 19ms/step - loss: 0.0462 - out_attrition_accuracy: 0.9923 - out_dept_accuracy: 1.0000\n",
            "Epoch 40/100\n",
            "37/37 - 1s - 19ms/step - loss: 0.0453 - out_attrition_accuracy: 0.9923 - out_dept_accuracy: 1.0000\n",
            "Epoch 41/100\n",
            "37/37 - 1s - 18ms/step - loss: 0.0446 - out_attrition_accuracy: 0.9923 - out_dept_accuracy: 1.0000\n",
            "Epoch 42/100\n",
            "37/37 - 1s - 18ms/step - loss: 0.0438 - out_attrition_accuracy: 0.9923 - out_dept_accuracy: 1.0000\n",
            "Epoch 43/100\n",
            "37/37 - 1s - 18ms/step - loss: 0.0432 - out_attrition_accuracy: 0.9923 - out_dept_accuracy: 1.0000\n",
            "Epoch 44/100\n",
            "37/37 - 1s - 19ms/step - loss: 0.0425 - out_attrition_accuracy: 0.9923 - out_dept_accuracy: 1.0000\n",
            "Epoch 45/100\n",
            "37/37 - 1s - 18ms/step - loss: 0.0419 - out_attrition_accuracy: 0.9923 - out_dept_accuracy: 1.0000\n",
            "Epoch 46/100\n",
            "37/37 - 1s - 18ms/step - loss: 0.0413 - out_attrition_accuracy: 0.9923 - out_dept_accuracy: 1.0000\n",
            "Epoch 47/100\n",
            "37/37 - 1s - 18ms/step - loss: 0.0408 - out_attrition_accuracy: 0.9923 - out_dept_accuracy: 1.0000\n",
            "Epoch 48/100\n",
            "37/37 - 1s - 18ms/step - loss: 0.0403 - out_attrition_accuracy: 0.9923 - out_dept_accuracy: 1.0000\n",
            "Epoch 49/100\n",
            "37/37 - 1s - 19ms/step - loss: 0.0398 - out_attrition_accuracy: 0.9923 - out_dept_accuracy: 1.0000\n",
            "Epoch 50/100\n",
            "37/37 - 1s - 18ms/step - loss: 0.0394 - out_attrition_accuracy: 0.9923 - out_dept_accuracy: 1.0000\n",
            "Epoch 51/100\n",
            "37/37 - 1s - 18ms/step - loss: 0.0389 - out_attrition_accuracy: 0.9923 - out_dept_accuracy: 1.0000\n",
            "Epoch 52/100\n",
            "37/37 - 1s - 21ms/step - loss: 0.0385 - out_attrition_accuracy: 0.9923 - out_dept_accuracy: 1.0000\n",
            "Epoch 53/100\n",
            "37/37 - 1s - 21ms/step - loss: 0.0381 - out_attrition_accuracy: 0.9923 - out_dept_accuracy: 1.0000\n",
            "Epoch 54/100\n",
            "37/37 - 1s - 21ms/step - loss: 0.0378 - out_attrition_accuracy: 0.9923 - out_dept_accuracy: 1.0000\n",
            "Epoch 55/100\n",
            "37/37 - 1s - 20ms/step - loss: 0.0407 - out_attrition_accuracy: 0.9915 - out_dept_accuracy: 1.0000\n",
            "Epoch 56/100\n",
            "37/37 - 1s - 18ms/step - loss: 0.1977 - out_attrition_accuracy: 0.9218 - out_dept_accuracy: 1.0000\n",
            "Epoch 57/100\n",
            "37/37 - 1s - 18ms/step - loss: 0.7871 - out_attrition_accuracy: 0.9294 - out_dept_accuracy: 0.8418\n",
            "Epoch 58/100\n",
            "37/37 - 1s - 22ms/step - loss: 0.3060 - out_attrition_accuracy: 0.9456 - out_dept_accuracy: 0.9396\n",
            "Epoch 59/100\n",
            "37/37 - 1s - 19ms/step - loss: 0.1292 - out_attrition_accuracy: 0.9855 - out_dept_accuracy: 0.9787\n",
            "Epoch 60/100\n",
            "37/37 - 1s - 18ms/step - loss: 0.0557 - out_attrition_accuracy: 0.9923 - out_dept_accuracy: 0.9966\n",
            "Epoch 61/100\n",
            "37/37 - 1s - 18ms/step - loss: 0.0406 - out_attrition_accuracy: 0.9923 - out_dept_accuracy: 1.0000\n",
            "Epoch 62/100\n",
            "37/37 - 1s - 20ms/step - loss: 0.0351 - out_attrition_accuracy: 0.9940 - out_dept_accuracy: 1.0000\n",
            "Epoch 63/100\n",
            "37/37 - 1s - 35ms/step - loss: 0.0318 - out_attrition_accuracy: 0.9940 - out_dept_accuracy: 1.0000\n",
            "Epoch 64/100\n",
            "37/37 - 1s - 19ms/step - loss: 0.0285 - out_attrition_accuracy: 0.9957 - out_dept_accuracy: 1.0000\n",
            "Epoch 65/100\n",
            "37/37 - 1s - 20ms/step - loss: 0.0272 - out_attrition_accuracy: 0.9957 - out_dept_accuracy: 1.0000\n",
            "Epoch 66/100\n",
            "37/37 - 1s - 23ms/step - loss: 0.0262 - out_attrition_accuracy: 0.9966 - out_dept_accuracy: 1.0000\n",
            "Epoch 67/100\n",
            "37/37 - 1s - 20ms/step - loss: 0.0244 - out_attrition_accuracy: 0.9966 - out_dept_accuracy: 1.0000\n",
            "Epoch 68/100\n",
            "37/37 - 1s - 20ms/step - loss: 0.0236 - out_attrition_accuracy: 0.9974 - out_dept_accuracy: 1.0000\n",
            "Epoch 69/100\n",
            "37/37 - 1s - 21ms/step - loss: 0.0230 - out_attrition_accuracy: 0.9974 - out_dept_accuracy: 1.0000\n",
            "Epoch 70/100\n",
            "37/37 - 1s - 19ms/step - loss: 0.0225 - out_attrition_accuracy: 0.9974 - out_dept_accuracy: 1.0000\n",
            "Epoch 71/100\n",
            "37/37 - 1s - 18ms/step - loss: 0.0220 - out_attrition_accuracy: 0.9974 - out_dept_accuracy: 1.0000\n",
            "Epoch 72/100\n",
            "37/37 - 1s - 18ms/step - loss: 0.0217 - out_attrition_accuracy: 0.9974 - out_dept_accuracy: 1.0000\n",
            "Epoch 73/100\n",
            "37/37 - 1s - 18ms/step - loss: 0.0213 - out_attrition_accuracy: 0.9974 - out_dept_accuracy: 1.0000\n",
            "Epoch 74/100\n",
            "37/37 - 1s - 19ms/step - loss: 0.0209 - out_attrition_accuracy: 0.9974 - out_dept_accuracy: 1.0000\n",
            "Epoch 75/100\n",
            "37/37 - 1s - 19ms/step - loss: 0.0206 - out_attrition_accuracy: 0.9974 - out_dept_accuracy: 1.0000\n",
            "Epoch 76/100\n",
            "37/37 - 1s - 20ms/step - loss: 0.0203 - out_attrition_accuracy: 0.9974 - out_dept_accuracy: 1.0000\n",
            "Epoch 77/100\n",
            "37/37 - 1s - 21ms/step - loss: 0.0200 - out_attrition_accuracy: 0.9974 - out_dept_accuracy: 1.0000\n",
            "Epoch 78/100\n",
            "37/37 - 1s - 18ms/step - loss: 0.0197 - out_attrition_accuracy: 0.9974 - out_dept_accuracy: 1.0000\n",
            "Epoch 79/100\n",
            "37/37 - 1s - 17ms/step - loss: 0.0195 - out_attrition_accuracy: 0.9974 - out_dept_accuracy: 1.0000\n",
            "Epoch 80/100\n",
            "37/37 - 1s - 17ms/step - loss: 0.0192 - out_attrition_accuracy: 0.9974 - out_dept_accuracy: 1.0000\n",
            "Epoch 81/100\n",
            "37/37 - 1s - 19ms/step - loss: 0.0190 - out_attrition_accuracy: 0.9974 - out_dept_accuracy: 1.0000\n",
            "Epoch 82/100\n",
            "37/37 - 1s - 18ms/step - loss: 0.0188 - out_attrition_accuracy: 0.9974 - out_dept_accuracy: 1.0000\n",
            "Epoch 83/100\n",
            "37/37 - 1s - 19ms/step - loss: 0.0185 - out_attrition_accuracy: 0.9974 - out_dept_accuracy: 1.0000\n",
            "Epoch 84/100\n",
            "37/37 - 1s - 18ms/step - loss: 0.0183 - out_attrition_accuracy: 0.9974 - out_dept_accuracy: 1.0000\n",
            "Epoch 85/100\n",
            "37/37 - 1s - 19ms/step - loss: 0.0181 - out_attrition_accuracy: 0.9974 - out_dept_accuracy: 1.0000\n",
            "Epoch 86/100\n",
            "37/37 - 1s - 17ms/step - loss: 0.0179 - out_attrition_accuracy: 0.9974 - out_dept_accuracy: 1.0000\n",
            "Epoch 87/100\n",
            "37/37 - 1s - 18ms/step - loss: 0.0178 - out_attrition_accuracy: 0.9974 - out_dept_accuracy: 1.0000\n",
            "Epoch 88/100\n",
            "37/37 - 1s - 18ms/step - loss: 0.0176 - out_attrition_accuracy: 0.9974 - out_dept_accuracy: 1.0000\n",
            "Epoch 89/100\n",
            "37/37 - 1s - 17ms/step - loss: 0.0174 - out_attrition_accuracy: 0.9974 - out_dept_accuracy: 1.0000\n",
            "Epoch 90/100\n",
            "37/37 - 1s - 17ms/step - loss: 0.0173 - out_attrition_accuracy: 0.9974 - out_dept_accuracy: 1.0000\n",
            "Epoch 91/100\n",
            "37/37 - 1s - 18ms/step - loss: 0.0171 - out_attrition_accuracy: 0.9974 - out_dept_accuracy: 1.0000\n",
            "Epoch 92/100\n",
            "37/37 - 1s - 19ms/step - loss: 0.0170 - out_attrition_accuracy: 0.9974 - out_dept_accuracy: 1.0000\n",
            "Epoch 93/100\n",
            "37/37 - 1s - 18ms/step - loss: 0.0168 - out_attrition_accuracy: 0.9974 - out_dept_accuracy: 1.0000\n",
            "Epoch 94/100\n",
            "37/37 - 1s - 18ms/step - loss: 0.0167 - out_attrition_accuracy: 0.9974 - out_dept_accuracy: 1.0000\n",
            "Epoch 95/100\n",
            "37/37 - 1s - 18ms/step - loss: 0.0166 - out_attrition_accuracy: 0.9974 - out_dept_accuracy: 1.0000\n",
            "Epoch 96/100\n",
            "37/37 - 1s - 19ms/step - loss: 0.0164 - out_attrition_accuracy: 0.9974 - out_dept_accuracy: 1.0000\n",
            "Epoch 97/100\n",
            "37/37 - 1s - 19ms/step - loss: 0.0163 - out_attrition_accuracy: 0.9974 - out_dept_accuracy: 1.0000\n",
            "Epoch 98/100\n",
            "37/37 - 1s - 19ms/step - loss: 0.0162 - out_attrition_accuracy: 0.9974 - out_dept_accuracy: 1.0000\n",
            "Epoch 99/100\n",
            "37/37 - 1s - 18ms/step - loss: 0.0161 - out_attrition_accuracy: 0.9974 - out_dept_accuracy: 1.0000\n",
            "Epoch 100/100\n",
            "37/37 - 1s - 18ms/step - loss: 0.0160 - out_attrition_accuracy: 0.9974 - out_dept_accuracy: 1.0000\n"
          ]
        },
        {
          "data": {
            "text/plain": [
              "<keras.src.callbacks.history.History at 0x1d3d21b5330>"
            ]
          },
          "execution_count": 19,
          "metadata": {},
          "output_type": "execute_result"
        }
      ],
      "source": [
        "# Train the model\n",
        "model.fit(X_train_scaled, {'out_dept': encoded_train_Department, 'out_attrition': encoded_train_Attrition}, epochs=100, shuffle=True, verbose=2)\n"
      ]
    },
    {
      "cell_type": "code",
      "execution_count": 20,
      "metadata": {
        "colab": {
          "base_uri": "https://localhost:8080/"
        },
        "id": "VsMoaQlgGc3U",
        "outputId": "1bd4e601-e964-4abc-ad83-aeecf6b696be"
      },
      "outputs": [
        {
          "name": "stdout",
          "output_type": "stream",
          "text": [
            "10/10 - 0s - 15ms/step - loss: 2.6152 - out_attrition_accuracy: 0.8639 - out_dept_accuracy: 0.8878\n",
            "[2.615182399749756, 0.8639456033706665, 0.8877550959587097]\n"
          ]
        }
      ],
      "source": [
        "# Evaluate the model with the testing data\n",
        "results_test = model.evaluate(X_test_scaled, {'out_dept': encoded_test_Department, 'out_attrition': encoded_test_Attrition}, verbose=2)\n",
        "print(results_test)"
      ]
    },
    {
      "cell_type": "code",
      "execution_count": 21,
      "metadata": {
        "colab": {
          "base_uri": "https://localhost:8080/"
        },
        "id": "ZlCtlHi0Vt54",
        "outputId": "bc21ef3e-80c2-4b38-9c29-79515bc23dec"
      },
      "outputs": [
        {
          "name": "stdout",
          "output_type": "stream",
          "text": [
            "Department predictions Accuracy: 0.8877550959587097\n",
            "Attrition predictions Accuracy: 0.8639456033706665\n"
          ]
        }
      ],
      "source": [
        "# Print the accuracy for both department and attrition\n",
        "print(f\"Department predictions Accuracy: {results_test[2]}\")\n",
        "print(f\"Attrition predictions Accuracy: {results_test[1]}\")"
      ]
    },
    {
      "cell_type": "markdown",
      "metadata": {
        "id": "eGSyfsZfWOQM"
      },
      "source": [
        "# Summary\n",
        "\n",
        "In the provided space below, briefly answer the following questions.\n",
        "\n",
        "1. Is accuracy the best metric to use on this data? Why or why not?\n",
        "\n",
        "2. What activation functions did you choose for your output layers, and why?\n",
        "\n",
        "3. Can you name a few ways that this model might be improved?"
      ]
    },
    {
      "cell_type": "markdown",
      "metadata": {
        "id": "pi9SLpFnWvbF"
      },
      "source": [
        "YOUR ANSWERS HERE\n",
        "\n",
        "1. The imbalance in our dataset, where certain classes dominate others (like \"no attrition\" and \"Research & Development\"), makes accuracy a deceptive metric. A simplistic model that always predicts these majority classes might appear accurate, yet it lacks practical value.\n",
        "\n",
        "To gauge the effectiveness of our model, we must consider the specific business context. If our main objective is to identify employees likely to leave and implement retention strategies, then a model that minimizes false negatives (high recall) is critical. This means prioritizing the correct identification of potential attrition, even if it leads to some false positives (incorrectly predicting attrition for some employees).\n",
        "\n",
        "Beyond accuracy, we'll focus on metrics like recall and precision, balancing their trade-off to ensure the model aligns with our business goals.\n",
        "\n",
        "2. In my model's architecture, I employed different activation functions for the department and attrition output layers. Specifically, I chose the softmax function for the department output, as it adeptly distributes probabilities across multiple classes, ensuring their sum totals 1. This is ideal for multi-class classification tasks like predicting which department an employee might belong to.\n",
        "\n",
        "Conversely, for the attrition output layer, I utilized the sigmoid function. This function is well-suited for binary classification, mapping input values to a range between 0 and 1, effectively representing probabilities of \"yes/no\" or \"true/false\" outcomes. In this context, the sigmoid function is ideal for predicting whether an employee will leave the company (attrition).\n",
        "\n",
        "By selecting activation functions that align with the nature of each output layer's task, I looked to enhance the model's overall predictive performance and accuracy.\n",
        "\n",
        "3. Several avenues exist for enhancing the model's performance:\n",
        "\n",
        "-Architecture Modifications: Experimenting with the model's structure by adding more layers or neurons could increase its capacity to learn complex patterns.\n",
        "- Hyperparameter Optimization: Fine-tuning hyperparameters such as learning rate, batch size, the number of epochs, and optimizer choice can significantly impact model performance.\n",
        "- Feature Engineering: Creating new features or transforming existing ones could uncover hidden relationships in the data and improve predictive power.\n",
        "- Data Balancing: Addressing biases or imbalances in the dataset, perhaps through techniques like oversampling or undersampling, can help the model generalize better.\n",
        "\n",
        "These are just a few potential strategies for improving the model. A systematic approach involving experimentation and careful analysis will be critical in determining the most effective enhancements."
      ]
    },
    {
      "cell_type": "markdown",
      "metadata": {},
      "source": []
    }
  ],
  "metadata": {
    "colab": {
      "provenance": []
    },
    "kernelspec": {
      "display_name": "Python 3",
      "language": "python",
      "name": "python3"
    },
    "language_info": {
      "codemirror_mode": {
        "name": "ipython",
        "version": 3
      },
      "file_extension": ".py",
      "mimetype": "text/x-python",
      "name": "python",
      "nbconvert_exporter": "python",
      "pygments_lexer": "ipython3",
      "version": "3.10.13"
    },
    "vscode": {
      "interpreter": {
        "hash": "31f2aee4e71d21fbe5cf8b01ff0e069b9275f58929596ceb00d14d90e3e16cd6"
      }
    }
  },
  "nbformat": 4,
  "nbformat_minor": 0
}
